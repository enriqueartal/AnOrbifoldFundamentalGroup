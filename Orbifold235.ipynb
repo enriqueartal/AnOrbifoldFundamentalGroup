{
 "cells": [
  {
   "cell_type": "markdown",
   "metadata": {},
   "source": [
    "We start loading functions which will be useful. This code is needed to load the the file from internet."
   ]
  },
  {
   "cell_type": "code",
   "execution_count": 1,
   "metadata": {},
   "outputs": [
    {
     "name": "stderr",
     "output_type": "stream",
     "text": [
      "/usr/local/sage/local/var/lib/sage/venv-python3.10/lib64/python3.10/site-packages/sage/misc/remote_file.py:46: DeprecationWarning: ssl.SSLContext() without protocol argument is deprecated.\n",
      "  content = urlopen(req, timeout=1, context=SSLContext())\n",
      "/usr/local/sage/local/var/lib/sage/venv-python3.10/lib64/python3.10/site-packages/sage/misc/remote_file.py:46: DeprecationWarning: ssl.PROTOCOL_TLS is deprecated\n",
      "  content = urlopen(req, timeout=1, context=SSLContext())\n"
     ]
    }
   ],
   "source": [
    "import ssl\n",
    "\n",
    "ssl._create_default_https_context = ssl._create_unverified_context\n",
    "load(\"https://raw.githubusercontent.com/enriqueartal/Miscellanous-SageFunctions/master/MonodromyGroupFunctions.sage\")"
   ]
  },
  {
   "cell_type": "markdown",
   "metadata": {},
   "source": [
    "We are dealing with three fibers $X_2,X_3,X_5$ and three sections $Y_2,Y_3,Y_5$ of $\\mathbb{P}^1\\times\\mathbb{P}^1$, the corresponding ones intersecting at the diagonal $D$. We put the fiber $X_2$ and the section $Y_2$ at $\\infty$.\n",
    "\n",
    "The base of the fundamental group is the intersection point of the dashed vertical and horizontal lines. We pick three generators for the fundamental group of the fiber:\n",
    "\n",
    "- $\\alpha_1$ meridian of $Y_3$.\n",
    "- $\\alpha_2$ meridian of $D$.\n",
    "- $\\alpha_3$ meridian of $Y_5$.\n",
    "\n",
    "They form a geometric basis such that $(\\alpha_3\\cdot\\alpha_2\\cdot\\alpha_1)^{-1}$ is a meridian of $Y_2$. The braid monodromy can be deduced from the below real picture:\n",
    "\n",
    "- For $X_5$: $\\sigma_2^2$.\n",
    "- For $X_3$: $\\sigma_1^2$.\n",
    "\n",
    "We denote by $\\alpha_4$, $\\alpha_5$ the meridians of $X_5$ and $X_3$, respectively, in the horizontal line. A meridian of $D$ in this horizontal line is naturally \n",
    "$\\alpha_1^{(\\sigma_1^{-1})}=\\alpha_1^{-1}\\cdot\\alpha_2\\cdot\\alpha_1$. \n",
    "As a consequence $(\\alpha_1^{-1}\\cdot\\alpha_2\\cdot\\alpha_1\\cdot\\alpha_5\\cdot\\alpha_4)^{-1}$ is a meridian of $X_2$. Interpretation of braid monodromy is as follows. For $i=1,2,3$:\n",
    "\n",
    "- $\\alpha_4^{-1}\\cdot\\alpha_i\\cdot\\alpha_4=\\alpha_i^{(\\sigma_2)^2}$.\n",
    "- $\\alpha_5^{-1}\\cdot\\alpha_i\\cdot\\alpha_5=\\alpha_i^{(\\sigma_1)^2}$."
   ]
  },
  {
   "cell_type": "code",
   "execution_count": 2,
   "metadata": {
    "jupyter": {
     "source_hidden": true
    }
   },
   "outputs": [
    {
     "data": {
      "image/png": "[encoded data removed]",
      "text/plain": [
       "Graphics object consisting of 7 graphics primitives"
      ]
     },
     "execution_count": 2,
     "metadata": {},
     "output_type": "execute_result"
    }
   ],
   "source": [
    "var('t')\n",
    "Y5=parametric_plot((t,0),(t,-1,2),axes=False,legend_label=r'$Y_5$')\n",
    "X5=parametric_plot((0,t),(t,-1,2),axes=False,color='red',legend_label=r'$X_5$')\n",
    "Y3=parametric_plot((t,1),(t,-1,2),axes=False,color='purple',legend_label=r'$Y_3$')\n",
    "X3=parametric_plot((1,t),(t,-1,2),axes=False,color='green',legend_label=r'$X_3$')\n",
    "D=parametric_plot((t,t),(t,-1,2),axes=False,color='black')\n",
    "V=parametric_plot((.5,t),(t,-1,2),axes=False,color='black',linestyle=\"dashed\")\n",
    "H=parametric_plot((t,1.5),(t,-.5,2),axes=False,color='black',linestyle=\"dashed\")\n",
    "Y3+Y5+X5+X3+D+V+H"
   ]
  },
  {
   "cell_type": "markdown",
   "metadata": {},
   "source": [
    "We consider the free groups $\\mathbb{F}_3\\subset\\mathbb{F}_5$ and the braid group $\\mathbb{B}_3$ which acts on the right on $\\mathbb{F}_3$ as follows:\n",
    "\n",
    "$$\n",
    "\\alpha_i^{\\sigma_j}=\n",
    "\\begin{cases}\n",
    "\\alpha_i&\\text{ if }i\\neq j,j-1,\\\\\n",
    "\\alpha_{i+1}&\\text{ if }i=j,\\\\\n",
    "\\alpha_{i}\\cdot\\alpha_{i-1}\\cdot\\alpha_{i}^{-1}&\\text{ if }i=j-1.\n",
    "\\end{cases}\n",
    "$$\n",
    "With all these data we construct the presentation of the group."
   ]
  },
  {
   "cell_type": "code",
   "execution_count": 3,
   "metadata": {},
   "outputs": [],
   "source": [
    "F3=FreeGroup(3)\n",
    "F5=FreeGroup(5)\n",
    "B5=BraidGroup(3)"
   ]
  },
  {
   "cell_type": "markdown",
   "metadata": {},
   "source": [
    "Let us define the list of the braids."
   ]
  },
  {
   "cell_type": "code",
   "execution_count": 4,
   "metadata": {},
   "outputs": [
    {
     "data": {
      "text/plain": [
       "[s1^2, s0^2]"
      ]
     },
     "execution_count": 4,
     "metadata": {},
     "output_type": "execute_result"
    }
   ],
   "source": [
    "T=[B5(2*[i]) for i in [2,1]]\n",
    "T"
   ]
  },
  {
   "cell_type": "markdown",
   "metadata": {},
   "source": [
    "We construct the list of relations using the function `LibreTrenza` which expresses the above action."
   ]
  },
  {
   "cell_type": "code",
   "execution_count": 5,
   "metadata": {},
   "outputs": [
    {
     "data": {
      "text/plain": [
       "[x3^-1*x0*x3*x0^-1,\n",
       " x3^-1*x1*x3*x2*x1^-1*x2^-1,\n",
       " x3^-1*x2*x3*x2*x1*x2^-1*x1^-1*x2^-1,\n",
       " x4^-1*x0*x4*x1*x0^-1*x1^-1,\n",
       " x4^-1*x1*x4*x1*x0*x1^-1*x0^-1*x1^-1,\n",
       " x4^-1*x2*x4*x2^-1]"
      ]
     },
     "execution_count": 5,
     "metadata": {},
     "output_type": "execute_result"
    }
   ],
   "source": [
    "L=[]\n",
    "for j in [0,1]:\n",
    "    u=F5.gen(3+j)\n",
    "    t=T[j]\n",
    "    for i in [1..3]:\n",
    "        a0=LibreTrenza(F3([i]),t).Tietze()\n",
    "        L.append(u^-1*F5([i])*u/F5(a0))\n",
    "L"
   ]
  },
  {
   "cell_type": "markdown",
   "metadata": {},
   "source": [
    "We include the orbifold relations."
   ]
  },
  {
   "cell_type": "code",
   "execution_count": 6,
   "metadata": {},
   "outputs": [],
   "source": [
    "L+=[F5(3*[1]),F5(3*[5]),F5(5*[3]),F5(5*[4]),F5(2*[3,2,1]),F5(2*[-1,2,1,5,4])]"
   ]
  },
  {
   "cell_type": "markdown",
   "metadata": {},
   "source": [
    "Let us construct the group $G$ and the alternating group $A_5$. We see the two possible epimorphisms coming from the projections."
   ]
  },
  {
   "cell_type": "code",
   "execution_count": 7,
   "metadata": {},
   "outputs": [],
   "source": [
    "G=F5/L\n",
    "#A5=FreeGroup(2)/[3*[1],5*[2],2*[1,2]]\n",
    "A5=AlternatingGroup(5)"
   ]
  },
  {
   "cell_type": "code",
   "execution_count": 8,
   "metadata": {},
   "outputs": [
    {
     "data": {
      "text/plain": [
       "[Generic morphism:\n",
       "   From: Finitely presented group < x0, x1, x2, x3, x4 | x3^-1*x0*x3*x0^-1, x3^-1*x1*x3*x2*x1^-1*x2^-1, x3^-1*x2*x3*x2*x1*x2^-1*x1^-1*x2^-1, x4^-1*x0*x4*x1*x0^-1*x1^-1, x4^-1*x1*x4*x1*x0*x1^-1*x0^-1*x1^-1, x4^-1*x2*x4*x2^-1, x0^3, x4^3, x2^5, x3^5, (x2*x1*x0)^2, (x0^-1*x1*x0*x4*x3)^2 >\n",
       "   To:   Alternating group of order 5!/2 as a permutation group\n",
       "   Defn: x0 |--> ()\n",
       "         x1 |--> ()\n",
       "         x2 |--> ()\n",
       "         x3 |--> (1,3,4,2,5)\n",
       "         x4 |--> (1,2,3),\n",
       " Generic morphism:\n",
       "   From: Finitely presented group < x0, x1, x2, x3, x4 | x3^-1*x0*x3*x0^-1, x3^-1*x1*x3*x2*x1^-1*x2^-1, x3^-1*x2*x3*x2*x1*x2^-1*x1^-1*x2^-1, x4^-1*x0*x4*x1*x0^-1*x1^-1, x4^-1*x1*x4*x1*x0*x1^-1*x0^-1*x1^-1, x4^-1*x2*x4*x2^-1, x0^3, x4^3, x2^5, x3^5, (x2*x1*x0)^2, (x0^-1*x1*x0*x4*x3)^2 >\n",
       "   To:   Alternating group of order 5!/2 as a permutation group\n",
       "   Defn: x0 |--> (2,5,3)\n",
       "         x1 |--> ()\n",
       "         x2 |--> (1,2,3,4,5)\n",
       "         x3 |--> ()\n",
       "         x4 |--> ()]"
      ]
     },
     "execution_count": 8,
     "metadata": {},
     "output_type": "execute_result"
    }
   ],
   "source": [
    "G.epimorphisms(A5)"
   ]
  },
  {
   "cell_type": "markdown",
   "metadata": {},
   "source": [
    "To compute the intersection of the kernels we give a presentation of the direct product $A_5^2$: \n",
    "$$\n",
    "\\langle x,y,z,t\\mid x^3=y^5=(x\\cdot y)^2=z^3=t^5=(z\\cdot t)^2=1,\n",
    "[x,z]=[x,t]=[y,z]=[y,t]=1\n",
    "\\rangle\n",
    "$$"
   ]
  },
  {
   "cell_type": "code",
   "execution_count": 9,
   "metadata": {},
   "outputs": [],
   "source": [
    "B5=FreeGroup(4)/[3*[1],3*[3],5*[2],5*[4],2*[1,2],2*[3,4],[1,3,-1,-3],[1,4,-1,-4],[2,3,-2,-3],[2,4,-2,-4]]"
   ]
  },
  {
   "cell_type": "markdown",
   "metadata": {},
   "source": [
    "We construct the epimorphism on the direct product; we use `GAP` to construct its kernel and compute its Abelian invariants."
   ]
  },
  {
   "cell_type": "code",
   "execution_count": 10,
   "metadata": {},
   "outputs": [],
   "source": [
    "hom=HomomorphismGroups(G,B5,[B5([1]),B5.one(),B5([2]),B5([4]),B5([3])])"
   ]
  },
  {
   "cell_type": "code",
   "execution_count": 11,
   "metadata": {},
   "outputs": [],
   "source": [
    "K=hom.Kernel()"
   ]
  },
  {
   "cell_type": "code",
   "execution_count": 12,
   "metadata": {},
   "outputs": [
    {
     "data": {
      "text/plain": [
       "[ 0, 0, 0, 0, 0, 0, 0, 0, 0, 0, 0, 0, 0, 0, 0, 0, 0, 0, 0, 0, 0, 0, 0, 0, 0, 0, 0, 0, 0, 0, 0, 0, 0, 0, 0, 0, 0, 0, 0, 0, 0, 0, 0, 0, 0, 0, 0, 0, 0, 0, 0, 0, 0, 0, 0, 0, 0, 0, 0 ]"
      ]
     },
     "execution_count": 12,
     "metadata": {},
     "output_type": "execute_result"
    }
   ],
   "source": [
    "K.AbelianInvariants()"
   ]
  },
  {
   "cell_type": "code",
   "execution_count": 13,
   "metadata": {},
   "outputs": [
    {
     "data": {
      "text/plain": [
       "59"
      ]
     },
     "execution_count": 13,
     "metadata": {},
     "output_type": "execute_result"
    }
   ],
   "source": [
    "len(K.AbelianInvariants())"
   ]
  },
  {
   "cell_type": "markdown",
   "metadata": {},
   "source": [
    "As a consequence the abelianization of this kernel is $\\mathbb{Z}^{59}$ and the group is infinite."
   ]
  },
  {
   "cell_type": "code",
   "execution_count": null,
   "metadata": {},
   "outputs": [],
   "source": []
  }
 ],
 "metadata": {
  "kernelspec": {
   "display_name": "SageMath 9.6",
   "language": "sage",
   "name": "sagemath"
  },
  "language_info": {
   "codemirror_mode": {
    "name": "ipython",
    "version": 3
   },
   "file_extension": ".py",
   "mimetype": "text/x-python",
   "name": "python",
   "nbconvert_exporter": "python",
   "pygments_lexer": "ipython3",
   "version": "3.10.6"
  }
 },
 "nbformat": 4,
 "nbformat_minor": 4
}
